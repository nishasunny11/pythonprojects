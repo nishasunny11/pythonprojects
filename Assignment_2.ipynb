{
  "nbformat": 4,
  "nbformat_minor": 0,
  "metadata": {
    "colab": {
      "name": "Assignment-2",
      "provenance": [],
      "authorship_tag": "ABX9TyNFMh8Cyh2C+XnZkDsshUWC",
      "include_colab_link": true
    },
    "kernelspec": {
      "name": "python3",
      "display_name": "Python 3"
    }
  },
  "cells": [
    {
      "cell_type": "markdown",
      "metadata": {
        "id": "view-in-github",
        "colab_type": "text"
      },
      "source": [
        "<a href=\"https://colab.research.google.com/github/nishasunny11/pythonprojects/blob/main/Assignment_2.ipynb\" target=\"_parent\"><img src=\"https://colab.research.google.com/assets/colab-badge.svg\" alt=\"Open In Colab\"/></a>"
      ]
    },
    {
      "cell_type": "markdown",
      "metadata": {
        "id": "IeZFV5DRXdDv"
      },
      "source": [
        "Q1) Write a code to print three lines where:(take input from user)\r\n",
        "1.) The first line contains the sum of these two numbers.\r\n",
        "2.) The second line contains the difference of the two numbers.\r\n",
        "3.) The third line contains the product of the two numbers.\r\n"
      ]
    },
    {
      "cell_type": "code",
      "metadata": {
        "colab": {
          "base_uri": "https://localhost:8080/"
        },
        "id": "-TKQf31dX92e",
        "outputId": "a1c042ac-c12f-4f49-e8f7-34ce60f523e8"
      },
      "source": [
        "num_given1= int(input(\"Enter the first number:\"))\r\n",
        "num_given2= int(input(\"Enter the second number:\"))\r\n",
        "sum=num_given1+num_given2;\r\n",
        "print(sum)\r\n",
        "diff=num_given1-num_given2;\r\n",
        "print(diff)\r\n",
        "mul=num_given1*num_given2;\r\n",
        "print(mul)"
      ],
      "execution_count": null,
      "outputs": [
        {
          "output_type": "stream",
          "text": [
            "Enter the first number:8\n",
            "Enter the second number:4\n",
            "12\n",
            "4\n",
            "32\n"
          ],
          "name": "stdout"
        }
      ]
    },
    {
      "cell_type": "markdown",
      "metadata": {
        "id": "Li0ePwFaZCpI"
      },
      "source": [
        "Q2) Write a program to find the sum of a digits of a 4-digit number given by the user?\r\n",
        "Ex: 1234 is the input given by the user\r\n",
        "Output=10\r\n",
        "Expalnation: 1+2+3+4=10\r\n",
        " "
      ]
    },
    {
      "cell_type": "code",
      "metadata": {
        "colab": {
          "base_uri": "https://localhost:8080/"
        },
        "id": "WSKwBeWVZfcJ",
        "outputId": "3be16c10-e9ab-4796-80c8-30ef79aa6010"
      },
      "source": [
        "num=int(input(\"Enter a 4-digit number: \"))\r\n",
        "sum=0\r\n",
        "hold=num\r\n",
        "while(num>0):\r\n",
        "  rem=num%10\r\n",
        "  sum=sum+rem\r\n",
        "  num=int(num/10)\r\n",
        "print(\"Sum of all digits of\",hold,\"is\",sum)"
      ],
      "execution_count": null,
      "outputs": [
        {
          "output_type": "stream",
          "text": [
            "Enter a 4-digit number: 1234\n",
            "Sum of all digits of 1234 is 10\n"
          ],
          "name": "stdout"
        }
      ]
    }
  ]
}